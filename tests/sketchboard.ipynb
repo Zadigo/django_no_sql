{
 "metadata": {
  "language_info": {
   "codemirror_mode": {
    "name": "ipython",
    "version": 3
   },
   "file_extension": ".py",
   "mimetype": "text/x-python",
   "name": "python",
   "nbconvert_exporter": "python",
   "pygments_lexer": "ipython3",
   "version": "3.8.2-final"
  },
  "orig_nbformat": 2,
  "kernelspec": {
   "name": "python_defaultSpec_1597697438774",
   "display_name": "Python 3.8.2 64-bit"
  }
 },
 "nbformat": 4,
 "nbformat_minor": 2,
 "cells": [
  {
   "cell_type": "code",
   "execution_count": 9,
   "metadata": {
    "tags": []
   },
   "outputs": [],
   "source": [
    "from django_no_sql.tests.test_new_querying_process import QuerySet\n",
    "from django_no_sql.db.managers import Manager, Functions\n",
    "from django_no_sql.tests.test_new_querying_process import Manager as TestManager\n",
    "from copy import deepcopy"
   ]
  },
  {
   "cell_type": "code",
   "execution_count": 16,
   "metadata": {
    "tags": []
   },
   "outputs": [
    {
     "output_type": "execute_result",
     "data": {
      "text/plain": "django_no_sql.tests.test_new_querying_process.Manager"
     },
     "metadata": {},
     "execution_count": 16
    }
   ],
   "source": [
    "class Q:\n",
    "    query_cache = None\n",
    "    def copy(self):\n",
    "        klass = self.__class__()\n",
    "        return klass\n",
    "\n",
    "class A(Q):\n",
    "    counter = 0\n",
    "    def _clone(self):\n",
    "        klass = type('Manager', (QuerySet,), {})\n",
    "        klass.__module__ = TestManager.__module__\n",
    "        klass.__name__ = TestManager.__name__\n",
    "        klass.__qualname__ = TestManager.__qualname__\n",
    "        # klass['__init__'] =TestManager.__init__(klass)\n",
    "        klass.counter = 0\n",
    "        return klass\n",
    "\n",
    "    def clone(self):\n",
    "        b = self.__class__()\n",
    "        b.__dict__ = TestManager.__dict__.copy()\n",
    "        b.__name__ = TestManager.__name__\n",
    "        b.__qualname__ = TestManager.__qualname__\n",
    "        b.__init__(b, query=self.copy())\n",
    "        b.counter += 1\n",
    "        print(b.__dict__)\n",
    "        return b\n",
    "        \n",
    "class B:\n",
    "    def __init__(self):\n",
    "        manager = A()\n",
    "        self._default_manager = manager._clone()\n",
    "\n",
    "B()._default_manager"
   ]
  },
  {
   "cell_type": "code",
   "execution_count": null,
   "metadata": {},
   "outputs": [],
   "source": []
  }
 ]
}